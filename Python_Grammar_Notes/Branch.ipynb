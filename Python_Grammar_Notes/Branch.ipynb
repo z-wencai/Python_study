{
 "cells": [
  {
   "cell_type": "markdown",
   "metadata": {},
   "source": [
    "# 程序结构\n",
    "\n",
    "- 程序三种结构\n",
    "   - 顺序\n",
    "   - 循环\n",
    "   - 分支"
   ]
  },
  {
   "cell_type": "markdown",
   "metadata": {},
   "source": [
    "# 分支结构\n",
    "\n",
    "- 分支结构基本语法\n",
    "\n",
    "   if 条件表达式：\n",
    "      语句1\n",
    "      语句2\n",
    "      ……\n",
    "- 条件表达式就是计算机结果必须为布尔值的表达式\n",
    "- 表达式后面的冒号不能少\n",
    "- 注意if后面吃出现的语句，如果属于if语句块，则必须同一个缩进等级\n",
    "- 条件表达式结果为True执行if后面的缩进的语句块"
   ]
  },
  {
   "cell_type": "code",
   "execution_count": 1,
   "metadata": {},
   "outputs": [
    {
     "name": "stdout",
     "output_type": "stream",
     "text": [
      "发财了\n",
      "迎娶白富美\n",
      "日子还得过\n"
     ]
    }
   ],
   "source": [
    "# if 语句练习\n",
    "a = \"都买习题课\"\n",
    "\n",
    "if a:   #只有空字符串为False，其余为True\n",
    "    print(\"发财了\")\n",
    "    print(\"迎娶白富美\")\n",
    "print(\"日子还得过\")"
   ]
  },
  {
   "cell_type": "code",
   "execution_count": 2,
   "metadata": {},
   "outputs": [
    {
     "name": "stdout",
     "output_type": "stream",
     "text": [
      "喝酒去\n",
      "下次请我去\n"
     ]
    }
   ],
   "source": [
    "# if练习二\n",
    "\n",
    "age = 19\n",
    "\n",
    "if age > 16:\n",
    "    print(\"喝酒去\")\n",
    "    \n",
    "print(\"下次请我去\")"
   ]
  },
  {
   "cell_type": "markdown",
   "metadata": {},
   "source": [
    "# 双向分支\n",
    "\n",
    "- if....else..表达式\n",
    "- 语法结构：\n",
    "   \n",
    "   if 条件表达式：\n",
    "      语句1\n",
    "      语句2\n",
    "      ……\n",
    "   else：\n",
    "      语句1\n",
    "      语句2\n",
    "      ……"
   ]
  },
  {
   "cell_type": "code",
   "execution_count": 3,
   "metadata": {
    "scrolled": true
   },
   "outputs": [
    {
     "name": "stdout",
     "output_type": "stream",
     "text": [
      "发财了\n",
      "迎娶白富美\n",
      "日子还得过\n"
     ]
    }
   ],
   "source": [
    "# 双向分支练习\n",
    "a = \"都买习题课\"\n",
    "\n",
    "if a:   #只有空字符串为False，其余为True\n",
    "    print(\"发财了\")\n",
    "    print(\"迎娶白富美\")\n",
    "else:\n",
    "    print(\"继续吃土\")\n",
    "    print(\"耗下去\")\n",
    "print(\"日子还得过\")\n"
   ]
  },
  {
   "cell_type": "code",
   "execution_count": 7,
   "metadata": {},
   "outputs": [
    {
     "name": "stdout",
     "output_type": "stream",
     "text": [
      "请输入你的性别：man\n",
      "man\n",
      "走，喝酒抽烟剃头\n"
     ]
    }
   ],
   "source": [
    "# input 的作用\n",
    "# 1.在屏幕上输出括号内的字符串\n",
    "# 2.接受用户输入的内容并返回到程序\n",
    "# 3.input返回的内容一定是字符串类型\n",
    "\n",
    "gender = input(\"请输入你的性别：\")\n",
    "\n",
    "print(gender)\n",
    "\n",
    "if gender == \"man\":\n",
    "    print(\"走，喝酒抽烟剃头\")\n",
    "else:\n",
    "    print(\"你到底是个傻子\")"
   ]
  },
  {
   "cell_type": "markdown",
   "metadata": {},
   "source": [
    "# 多路分支\n",
    "\n",
    "- 很多分支的情况，叫多路分支\n",
    "\n",
    "        if  条件表达式：\n",
    "            语句1\n",
    "            ....\n",
    "        elif 条件表达式：\n",
    "            语句1\n",
    "            ...\n",
    "        elif 条件表达式：\n",
    "            语句1\n",
    "            ...\n",
    "            \n",
    "        .....\n",
    "        else:\n",
    "            语句1\n",
    "            ...."
   ]
  },
  {
   "cell_type": "code",
   "execution_count": 12,
   "metadata": {},
   "outputs": [
    {
     "name": "stdout",
     "output_type": "stream",
     "text": [
      "请输入成绩，必须是数字90\n",
      "优秀小朋友\n"
     ]
    }
   ],
   "source": [
    "# 考试成绩判断\n",
    "# 成绩由用户输入\n",
    "# 90以上   输出优秀\n",
    "# 80-90     良\n",
    "# 70-80     中\n",
    "# 60-70     平\n",
    "# 60以下     输出   我没你这学生\n",
    "\n",
    "score = input(\"请输入成绩，必须是数字\")\n",
    "score = int(score)  # 类型转换\n",
    "if score >= 90:\n",
    "    print(\"优秀小朋友\")\n",
    "elif score >= 80 and score < 90:\n",
    "    print(\"良\")\n",
    "elif score >= 70 and score < 80:\n",
    "    print(\"中\")\n",
    "elif score >= 60 and score < 70:\n",
    "    print(\"平\")\n",
    "else:\n",
    "    print(\"没你这个学生\")"
   ]
  },
  {
   "cell_type": "markdown",
   "metadata": {},
   "source": [
    "# 循环语句\n",
    "\n",
    "- 重复执行某一个固定的动作或者任务\n",
    "- 分类\n",
    "   - for\n",
    "   - while\n",
    "\n",
    "# for循环\n",
    "- for循环\n",
    "    \n",
    "        for 变量 in 序列：\n",
    "            语句1\n",
    "            语句2\n",
    "            ..."
   ]
  },
  {
   "cell_type": "code",
   "execution_count": 13,
   "metadata": {},
   "outputs": [
    {
     "name": "stdout",
     "output_type": "stream",
     "text": [
      "1\n",
      "2\n",
      "3\n",
      "45\n",
      "4\n",
      "5\n"
     ]
    }
   ],
   "source": [
    "# [1,2,3,4,5,6]\n",
    "\n",
    "list_one = [1,2,3,45,4,5]\n",
    "\n",
    "for i in list_one:\n",
    "    print(i)"
   ]
  },
  {
   "cell_type": "code",
   "execution_count": 14,
   "metadata": {},
   "outputs": [
    {
     "name": "stdout",
     "output_type": "stream",
     "text": [
      "zhangsan\n",
      "同学我们不约，不约，同学请自重\n",
      "lisi\n",
      "同学我们不约，不约，同学请自重\n",
      "wangwu\n",
      "同学我们不约，不约，同学请自重\n",
      "jingjing\n",
      "我的最爱jingjing出现了\n"
     ]
    }
   ],
   "source": [
    "# 打印学生列表姓名\n",
    "# 如果是jingjign，那肯定是我的最爱呀，\n",
    "# 如果是别的学生，那要冷酷的拒绝他\n",
    "for name in  ['zhangsan', 'lisi', 'wangwu','jingjing']:\n",
    "    print(name)\n",
    "    if name == \"jingjing\":\n",
    "        print(\"我的最爱{0}出现了\".format(name))\n",
    "    else:\n",
    "        print(\"同学我们不约，不约，同学请自重\")"
   ]
  },
  {
   "cell_type": "markdown",
   "metadata": {},
   "source": [
    "## range介绍\n",
    "- 生成一个数字序列\n",
    "- 具体范围可以设定"
   ]
  },
  {
   "cell_type": "code",
   "execution_count": 15,
   "metadata": {},
   "outputs": [
    {
     "name": "stdout",
     "output_type": "stream",
     "text": [
      "1\n",
      "2\n",
      "3\n",
      "4\n",
      "5\n",
      "6\n",
      "7\n",
      "8\n",
      "9\n",
      "10\n"
     ]
    }
   ],
   "source": [
    "# range练习\n",
    "# 打印从1-10的数字\n",
    "# 注意，一般在python中，如果由表示数字范围的两个数，一般是包含左边数字不包含右边数字\n",
    "# randint是特例，他左右都包含\n",
    "# range函数在python2 和 python3中有严重区别\n",
    "for i in range(1,11):\n",
    "    print(i) "
   ]
  },
  {
   "cell_type": "markdown",
   "metadata": {},
   "source": [
    "## for-else语句\n",
    "-  当for循环结束的时候，会执行else语句\n",
    "- else语句是可选语句"
   ]
  },
  {
   "cell_type": "code",
   "execution_count": 16,
   "metadata": {},
   "outputs": [
    {
     "name": "stdout",
     "output_type": "stream",
     "text": [
      "zhangsan\n",
      "同学我们不约，不约，同学请自重\n",
      "lisi\n",
      "同学我们不约，不约，同学请自重\n",
      "wangwu\n",
      "同学我们不约，不约，同学请自重\n",
      "jingjing\n",
      "我的最爱jingjing出现了\n",
      "别的都不是我的学生，不会在爱了\n",
      "别的都不是我的学生，不会在爱了\n",
      "别的都不是我的学生，不会在爱了\n",
      "别的都不是我的学生，不会在爱了\n"
     ]
    }
   ],
   "source": [
    "# for-else语句\n",
    "# 打印列表中的同学，\n",
    "# 如果没有在列表中，或者列表结束了，我们需要打印提示语句，表示不在爱了\n",
    "\n",
    "# 打印学生列表姓名\n",
    "# 如果是jingjign，那肯定是我的最爱呀，\n",
    "# 如果是别的学生，那要冷酷的拒绝他\n",
    "for name in  ['zhangsan', 'lisi', 'wangwu','jingjing']:\n",
    "    print(name)\n",
    "    if name == \"jingjing\":\n",
    "        print(\"我的最爱{0}出现了\".format(name))\n",
    "    else:\n",
    "        print(\"同学我们不约，不约，同学请自重\")\n",
    "else:\n",
    "    print(\"别的都不是我的学生，不会在爱了\")\n",
    "    print(\"别的都不是我的学生，不会在爱了\")\n",
    "    print(\"别的都不是我的学生，不会在爱了\")\n",
    "    print(\"别的都不是我的学生，不会在爱了\")\n",
    "                "
   ]
  },
  {
   "cell_type": "markdown",
   "metadata": {},
   "source": [
    "## 循环之break,contineu,pass\n",
    "- break： 无条件结束整个循环，简称循环猝死\n",
    "- continue：无条件结束本次循环，从新进入下一轮循环\n",
    "- pass：表示略过，通常用于站位"
   ]
  },
  {
   "cell_type": "code",
   "execution_count": 17,
   "metadata": {},
   "outputs": [
    {
     "name": "stdout",
     "output_type": "stream",
     "text": [
      "1\n",
      "2\n",
      "3\n",
      "4\n",
      "5\n",
      "6\n",
      "我找到了\n"
     ]
    }
   ],
   "source": [
    "# 在数字1-10中，寻找数字7，一旦找到，打印出来，其余则什么都不做\n",
    "# for 循环中的变量表示，一般用i，k，m，n，或者indx，idx，item之类\n",
    "# 在python中，如果循环变量名称不重要，可以用下划线（_)代替\n",
    "\n",
    "for i in range(1,11):\n",
    "    if i == 7:\n",
    "        print(\"我找到了\")\n",
    "        break\n",
    "    else:\n",
    "        print(i)"
   ]
  },
  {
   "cell_type": "code",
   "execution_count": 18,
   "metadata": {},
   "outputs": [
    {
     "name": "stdout",
     "output_type": "stream",
     "text": [
      "2 是偶数\n",
      "4 是偶数\n",
      "6 是偶数\n",
      "8 是偶数\n",
      "10 是偶数\n"
     ]
    }
   ],
   "source": [
    "# continue语句联系\n",
    "# 在数字1-10中，寻找所有偶数，找到偶数后打印偶数\n",
    "\n",
    "for i in range(1,11):\n",
    "    if i % 2 == 1:\n",
    "        continue\n",
    "    else:\n",
    "        print(\"{0} 是偶数\".format(i))"
   ]
  },
  {
   "cell_type": "code",
   "execution_count": 19,
   "metadata": {},
   "outputs": [
    {
     "name": "stdout",
     "output_type": "stream",
     "text": [
      "2 是偶数\n",
      "4 是偶数\n",
      "6 是偶数\n",
      "8 是偶数\n",
      "10 是偶数\n"
     ]
    }
   ],
   "source": [
    "# continue语句 版本 2\n",
    "# 在数字1-10中，寻找所有偶数，找到偶数后打印偶数\n",
    "\n",
    "for i in range(1,11):\n",
    "    if i % 2 == 0:\n",
    "        print(\"{0} 是偶数\".format(i))"
   ]
  },
  {
   "cell_type": "code",
   "execution_count": 20,
   "metadata": {},
   "outputs": [
    {
     "name": "stdout",
     "output_type": "stream",
     "text": [
      "2 是偶数\n",
      "4 是偶数\n",
      "6 是偶数\n",
      "8 是偶数\n",
      "10 是偶数\n"
     ]
    }
   ],
   "source": [
    "# continue语句 版本 2\n",
    "# 在数字1-10中，寻找所有偶数，找到偶数后打印偶数\n",
    "# 本案例完整显示continue的用法和作用\n",
    "for i in range(1,11):\n",
    "    if i % 2 == 1:\n",
    "        continue\n",
    "        \n",
    "    print(\"{0} 是偶数\".format(i))"
   ]
  },
  {
   "cell_type": "code",
   "execution_count": 21,
   "metadata": {},
   "outputs": [
    {
     "name": "stdout",
     "output_type": "stream",
     "text": [
      "wo zai zheli\n",
      "wo zai zheli\n",
      "wo zai zheli\n",
      "wo zai zheli\n",
      "wo zai zheli\n",
      "wo zai zheli\n",
      "wo zai zheli\n",
      "wo zai zheli\n",
      "wo zai zheli\n",
      "wo zai zheli\n"
     ]
    }
   ],
   "source": [
    "# pass例子，一般用于占位\n",
    "# pass没有跳过功能\n",
    "\n",
    "for i in range(1,11):\n",
    "    pass\n",
    "    print(\"wo zai zheli\")\n",
    "    "
   ]
  }
 ],
 "metadata": {
  "kernelspec": {
   "display_name": "Python 3",
   "language": "python",
   "name": "python3"
  },
  "language_info": {
   "codemirror_mode": {
    "name": "ipython",
    "version": 3
   },
   "file_extension": ".py",
   "mimetype": "text/x-python",
   "name": "python",
   "nbconvert_exporter": "python",
   "pygments_lexer": "ipython3",
   "version": "3.7.3"
  }
 },
 "nbformat": 4,
 "nbformat_minor": 2
}
