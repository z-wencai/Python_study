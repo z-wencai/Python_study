{
 "cells": [
  {
   "cell_type": "markdown",
   "metadata": {},
   "source": [
    "# 表达式\n",
    "\n",
    "- 由一个或者几个数字或者变量或者运算符合成第一行代码\n",
    "- 通常返回一个结果\n",
    "\n",
    "# 运算符\n",
    "\n",
    "- 由一个以上的值经过一系列的运算得到新值的过程就叫运算\n",
    "- 用来操作运算符的符号叫运算符\n",
    "- 运算符的分类\n",
    "   - 算数运算符\n",
    "   - 比较或者关系运算符\n",
    "   - 赋值运算符\n",
    "   - 逻辑运算符\n",
    "   - 位运算\n",
    "   - 成员yunsf\n",
    "   - 身份运算符"
   ]
  },
  {
   "cell_type": "code",
   "execution_count": 3,
   "metadata": {},
   "outputs": [],
   "source": [
    "# 表达式\n",
    "\n",
    "a = 1 + 2"
   ]
  },
  {
   "cell_type": "markdown",
   "metadata": {},
   "source": [
    "# 算数运算符\n",
    "\n",
    "- 用来进行算数运算的符号\n",
    "- 通常用来表示加减乘除\n",
    "- python没有自增自减运算符"
   ]
  },
  {
   "cell_type": "code",
   "execution_count": 4,
   "metadata": {},
   "outputs": [
    {
     "name": "stdout",
     "output_type": "stream",
     "text": [
      "7\n",
      "11\n",
      "16\n",
      "4.5\n",
      "4\n",
      "1\n",
      "-3\n"
     ]
    }
   ],
   "source": [
    "# 算术运算符\n",
    "# 加减乘除跟数学意义一致\n",
    "\n",
    "a = 9 - 2\n",
    "print(a)\n",
    "\n",
    "b = 9 + 2\n",
    "print(b)\n",
    "\n",
    "c = 8 * 2\n",
    "print(c)\n",
    "\n",
    "# python 除法分为普通除法，地板除  取余\n",
    "\n",
    "#正常除法\n",
    "a = 9 / 2\n",
    "print(a)\n",
    "\n",
    "# 地板除\n",
    "b = 9 // 2\n",
    "print(b)\n",
    "\n",
    "# 取余\n",
    "c = 9 % 2\n",
    "print(c)\n",
    "\n",
    "# 取余负数 \n",
    "# 对于任何同号的两个整数，其取余结果没有争议，所有语言的运算原则都是使商尽可能小。 \n",
    "# 对于异号的两个整数，C++/Java语言的原则是使商尽可能大，很多新型语言和网页计算器的原则是使商尽可能小\n",
    "d = 9 % -4\n",
    "print(d)\n",
    "\n",
    "# 两个乘号就是指数\n",
    "a = 7 ** 2\n",
    "print(a)"
   ]
  },
  {
   "cell_type": "markdown",
   "metadata": {},
   "source": [
    "# 比较运算符\n",
    "\n",
    "- 对两个内容进行比较的运算符\n",
    "- 结果一定是布尔值，True/False"
   ]
  },
  {
   "cell_type": "code",
   "execution_count": 4,
   "metadata": {
    "scrolled": true
   },
   "outputs": [
    {
     "name": "stdout",
     "output_type": "stream",
     "text": [
      "False\n",
      "True\n",
      "False\n",
      "True\n"
     ]
    }
   ],
   "source": [
    "# 等于 ==  一个等号是赋值，\n",
    "a = 3 == 4\n",
    "print(a)\n",
    "\n",
    "# 不等于  !=\n",
    "a = 3 != 4\n",
    "print(a)\n",
    "\n",
    "# 其他符号\n",
    "# > ,>= ,< ,<=\n",
    "print (3 >= 8)\n",
    "print(\"adfasdfa\" > \"addf\")"
   ]
  },
  {
   "cell_type": "markdown",
   "metadata": {},
   "source": [
    "# 赋值运算符\n",
    "\n",
    "- 把一个值放到变量里边去"
   ]
  },
  {
   "cell_type": "code",
   "execution_count": 5,
   "metadata": {},
   "outputs": [
    {
     "name": "stdout",
     "output_type": "stream",
     "text": [
      "3\n"
     ]
    }
   ],
   "source": [
    "# 赋值符号 =\n",
    "a = 9\n",
    "\n",
    "# 复杂赋值\n",
    "a = b = 9\n",
    "a,b = 1,2\n",
    "\n",
    "# 赋值的缩写\n",
    "cc = 0\n",
    "cc = cc + 3\n",
    "print(cc)\n",
    "\n",
    "# +=只是缩写 \n",
    "# python 里面没有 ++，--"
   ]
  },
  {
   "cell_type": "markdown",
   "metadata": {},
   "source": [
    "# 逻辑运算符\n",
    "\n",
    "- 对布尔类型变量或者值进行运算发符号\n",
    "- and：逻辑与\n",
    "- or ：逻辑或\n",
    "- not ：逻辑非\n",
    "- python里面的逻辑运算没有异或\n",
    "- 运算规则：\n",
    "   - and看做乘法，or看做加法\n",
    "   - True看做1，False看做0\n",
    "   - 则逻辑元就能转换成整数数学运算\n",
    "   - 最后结果如果是0则为False，1则为True\n",
    "- 逻辑运算的短路问题\n",
    "   - 逻辑运算式，按照运算顺序计算，一旦能够确定整个式子未来的值，则不再进行计算，直接返回"
   ]
  },
  {
   "cell_type": "code",
   "execution_count": 6,
   "metadata": {},
   "outputs": [
    {
     "name": "stdout",
     "output_type": "stream",
     "text": [
      "True\n",
      "False\n"
     ]
    }
   ],
   "source": [
    "# 逻辑表达式\n",
    "\n",
    "a = True\n",
    "b = True\n",
    "c = False\n",
    "aa = a and b\n",
    "print(aa)\n",
    "\n",
    "bb = a and c\n",
    "print(bb) \n",
    "\n",
    "cc = 100 and c\n",
    "print(cc)\n",
    "\n",
    "# 数字转换成布尔值的时候：0 = False ，其余都为True\n",
    "# 布尔值转换成数字的时候：True = 1，False=0"
   ]
  },
  {
   "cell_type": "code",
   "execution_count": 11,
   "metadata": {},
   "outputs": [
    {
     "name": "stdout",
     "output_type": "stream",
     "text": [
      "True\n"
     ]
    }
   ],
   "source": [
    "# 短路问题案例1\n",
    "a = True\n",
    "b = True\n",
    "c = False\n",
    "\n",
    "aa = a or b and (a and b)\n",
    "print(aa)"
   ]
  },
  {
   "cell_type": "code",
   "execution_count": 13,
   "metadata": {
    "scrolled": true
   },
   "outputs": [
    {
     "name": "stdout",
     "output_type": "stream",
     "text": [
      "a\n",
      "b\n",
      "True\n",
      "********************\n",
      "a\n",
      "True\n"
     ]
    }
   ],
   "source": [
    "# 短路问题\n",
    "def a():\n",
    "    print('a')\n",
    "    return True\n",
    "\n",
    "def b():\n",
    "    print('b')\n",
    "    return True\n",
    "\n",
    "aaa = a() and b()\n",
    "print(aaa)\n",
    "\n",
    "# 字符串乘以数字表示对这个字符串重复多少遍\n",
    "\n",
    "print(\"*\"  * 20)\n",
    "bbb = a() or b() \n",
    "print(bbb)"
   ]
  },
  {
   "cell_type": "markdown",
   "metadata": {},
   "source": [
    "# 成员运算符\n",
    "\n",
    "- 用来检测一个值或者变量是否在某个集合里面\n",
    "- in： 成员运算符\n",
    "- not in ：不在里边"
   ]
  },
  {
   "cell_type": "code",
   "execution_count": 14,
   "metadata": {
    "scrolled": true
   },
   "outputs": [
    {
     "name": "stdout",
     "output_type": "stream",
     "text": [
      "False\n",
      "True\n"
     ]
    }
   ],
   "source": [
    "# in 案例\n",
    "\n",
    "L = [1,2.3,4,5,6]\n",
    "a = 7\n",
    "aa = a in L\n",
    "print(aa)\n",
    "\n",
    "aa = a not in L\n",
    "print(aa)"
   ]
  },
  {
   "cell_type": "markdown",
   "metadata": {},
   "source": [
    "# 身份运算符\n",
    "\n",
    "- 用来确定两个变量是否是同一个变量\n",
    "- is：\n",
    "- is not：不是"
   ]
  },
  {
   "cell_type": "code",
   "execution_count": 19,
   "metadata": {},
   "outputs": [
    {
     "name": "stdout",
     "output_type": "stream",
     "text": [
      "False\n",
      "False\n",
      "True\n"
     ]
    }
   ],
   "source": [
    "# 身份运算符\n",
    "a = 100\n",
    "b = 44\n",
    "aa = a is b\n",
    "print(aa)\n",
    "\n",
    "# 大一点数字需要重新开辟内存空间\n",
    "a = 10000000\n",
    "b = 10000000\n",
    "aa= a is b\n",
    "print(aa)\n",
    "\n",
    "# 值较小的python已经创建了内存指向同一个\n",
    "a = 5\n",
    "b = 5\n",
    "aa = a is b\n",
    "print(aa)"
   ]
  },
  {
   "cell_type": "markdown",
   "metadata": {},
   "source": [
    "# 运算符优先级问题\n",
    "\n",
    "- 永远记住，小括号具有最高优先级\n",
    "- 优先级表格\n",
    "\n",
    "        **  指数 (最高优先级)\n",
    "        ~ + -   按位翻转, 一元加号和减号 (最后两个的方法名为 +@ 和 -@)\n",
    "        * / % //    乘，除，取模和取整除\n",
    "        + - 加法减法\n",
    "        >> <<   右移，左移运算符\n",
    "        &   位 'AND'\n",
    "        ^ | 位运算符\n",
    "        <= < > >=   比较运算符\n",
    "        <> == !=    等于运算符\n",
    "        = %= /= //= -= += *= **=    赋值运算符\n",
    "        is is not   身份运算符\n",
    "        in not in   成员运算符\n",
    "        not or and  逻辑运算符"
   ]
  }
 ],
 "metadata": {
  "kernelspec": {
   "display_name": "Python 3",
   "language": "python",
   "name": "python3"
  },
  "language_info": {
   "codemirror_mode": {
    "name": "ipython",
    "version": 3
   },
   "file_extension": ".py",
   "mimetype": "text/x-python",
   "name": "python",
   "nbconvert_exporter": "python",
   "pygments_lexer": "ipython3",
   "version": "3.7.3"
  }
 },
 "nbformat": 4,
 "nbformat_minor": 2
}
