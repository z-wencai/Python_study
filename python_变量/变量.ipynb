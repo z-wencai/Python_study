{
 "cells": [
  {
   "cell_type": "markdown",
   "metadata": {},
   "source": [
    "# 注释\n",
    "\n",
    "- 机器不去执行注释内容\n",
    "- 注释一般用自然语言书写\n",
    "- 注释的写法\n",
    "  - 行注释：以#号开头，可以单独行，也可以在某行代码后边\n",
    "  - 块注释: 好几行代码或者内容，以三个连续单引号或双引号开始和结束，中间任何内容及其都忽略\n",
    "- 注释原则\n",
    "  - 恰当\n",
    "  - 不是越多越好\n",
    "  - 复杂算法\n",
    "  - 不容易懂的代码\n",
    "  \n",
    "# 变量\n",
    "\n",
    "- 变量就是可以重复使用的一个量，或者是一个代号\n",
    "- 变量命名规则\n",
    "  - 可以包含数字，大小写字母，下划线\n",
    "  - 数字不可以开头\n",
    "  - 以下划线开头的内容具有特殊含义，不建议使用\n",
    "  - 大小写不一样，俗称大小写敏感（FORMAN跟forMan不是一个变量）\n",
    "  - 推荐使用\n",
    "    - 使用具有固定含义的英文单词或者缩写\n",
    "    - 驼峰命名法\n",
    "  - 保留关键字"
   ]
  },
  {
   "cell_type": "code",
   "execution_count": 6,
   "metadata": {
    "scrolled": true
   },
   "outputs": [
    {
     "name": "stdout",
     "output_type": "stream",
     "text": [
      "['False', 'None', 'True', 'and', 'as', 'assert', 'async', 'await', 'break', 'class', 'continue', 'def', 'del', 'elif', 'else', 'except', 'finally', 'for', 'from', 'global', 'if', 'import', 'in', 'is', 'lambda', 'nonlocal', 'not', 'or', 'pass', 'raise', 'return', 'try', 'while', 'with', 'yield']\n"
     ]
    }
   ],
   "source": [
    "#查看保留的关键字\n",
    "import keyword #引入关键字模块\n",
    "#打印出\n",
    "print(keyword.kwlist)"
   ]
  },
  {
   "cell_type": "code",
   "execution_count": 5,
   "metadata": {},
   "outputs": [
    {
     "name": "stdout",
     "output_type": "stream",
     "text": [
      "19\n",
      "20 20 20\n",
      "13 14 81\n"
     ]
    }
   ],
   "source": [
    "#定义变量 age ，把18放入变量age中\n",
    "age = 19\n",
    "print(age)\n",
    "#给age1  age2  age3 放入同样的值\n",
    "age1 = age2 = age3 =20\n",
    "print(age1,age2,age3)\n",
    "#一行内给多个变量赋值\n",
    "age4,age5,age6=13,14,81\n",
    "print(age4,age5,age6)"
   ]
  },
  {
   "cell_type": "markdown",
   "metadata": {},
   "source": [
    "# 变量类型\n",
    "\n",
    "- 严格意义上讲，python只有一个类型\n",
    "- 标准数据类型六种\n",
    "   1. 数字 Number\n",
    "   2. 字符串类型 str\n",
    "   3. 列表 list\n",
    "   4. 元组 tuple\n",
    "   5. 字典 dict\n",
    "   6. 集合 set"
   ]
  },
  {
   "cell_type": "markdown",
   "metadata": {},
   "source": [
    "# 数字类型 Number\n",
    "\n",
    "- python 中的数字没有大小限制\n",
    "\n",
    "## 常见的数字分类\n",
    "- 整数\n",
    "   - 没有小数部分\n",
    "   - 包含正负数，0\n",
    "   - 二进制\n",
    "      - 只有 0，1\n",
    "      - 以0b开头的01串\n",
    "      - 如\n",
    "         - 0b110\n",
    "         - 0b11110\n",
    "   - 八进制\n",
    "      - 以0O开头的 0到7之间的数字串\n",
    "      - 列如：\n",
    "         - 0o71\n",
    "   - 八进制\n",
    "      - 以0x组成的由 0-9， a-f 构成的串\n",
    "- 浮点数\n",
    "- 科学计数法\n",
    "- 复数\n",
    "\n",
    "\n",
    "\n",
    "\n",
    "\n",
    "\n",
    "\n",
    "\n",
    "\n",
    "\n",
    "\n",
    "\n",
    "\n",
    "\n",
    "\n",
    "\n",
    "\n"
   ]
  },
  {
   "cell_type": "code",
   "execution_count": 8,
   "metadata": {},
   "outputs": [
    {
     "name": "stdout",
     "output_type": "stream",
     "text": [
      "6\n",
      "30\n"
     ]
    }
   ],
   "source": [
    "#二进制定义\n",
    "a1 = 0b110\n",
    "print(a1)\n",
    "\n",
    "a2 = 0b11110\n",
    "print(a2)"
   ]
  },
  {
   "cell_type": "code",
   "execution_count": 9,
   "metadata": {},
   "outputs": [
    {
     "name": "stdout",
     "output_type": "stream",
     "text": [
      "57\n"
     ]
    }
   ],
   "source": [
    "#八进制\n",
    "a3 = 0o71\n",
    "print(a3)"
   ]
  },
  {
   "cell_type": "code",
   "execution_count": 10,
   "metadata": {},
   "outputs": [
    {
     "name": "stdout",
     "output_type": "stream",
     "text": [
      "65535\n",
      "21490\n"
     ]
    }
   ],
   "source": [
    "# 十六进制 \n",
    "a4 = 0xffff\n",
    "print(a4)\n",
    "\n",
    "a5 = 0x53f2\n",
    "print(a5)"
   ]
  }
 ],
 "metadata": {
  "kernelspec": {
   "display_name": "Python 3",
   "language": "python",
   "name": "python3"
  },
  "language_info": {
   "codemirror_mode": {
    "name": "ipython",
    "version": 3
   },
   "file_extension": ".py",
   "mimetype": "text/x-python",
   "name": "python",
   "nbconvert_exporter": "python",
   "pygments_lexer": "ipython3",
   "version": "3.7.3"
  },
  "widgets": {
   "application/vnd.jupyter.widget-state+json": {
    "state": {},
    "version_major": 2,
    "version_minor": 0
   }
  }
 },
 "nbformat": 4,
 "nbformat_minor": 2
}
