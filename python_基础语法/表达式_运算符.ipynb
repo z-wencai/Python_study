{
 "cells": [
  {
   "cell_type": "markdown",
   "metadata": {},
   "source": [
    "# 表达式\n",
    "\n",
    "- 由一个或者几个数字或者变量或者运算符合成第一行代码\n",
    "- 通常返回一个结果\n",
    "\n",
    "# 运算符\n",
    "\n",
    "- 由一个以上的值经过一系列的运算得到新值的过程就叫运算\n",
    "- 用来操作运算符的符号叫运算符\n",
    "- 运算符的分类\n",
    "   - 算数运算符\n",
    "   - 比较或者关系运算符\n",
    "   - 赋值运算符\n",
    "   - 逻辑运算符\n",
    "   - 位运算\n",
    "   - 成员yunsf\n",
    "   - 身份运算符"
   ]
  },
  {
   "cell_type": "code",
   "execution_count": 3,
   "metadata": {},
   "outputs": [],
   "source": [
    "# 表达式\n",
    "\n",
    "a = 1 + 2"
   ]
  },
  {
   "cell_type": "markdown",
   "metadata": {},
   "source": [
    "# 算数运算符\n",
    "\n",
    "- 用来进行算数运算的符号\n",
    "- 通常用来表示加减乘除\n",
    "- python没有自增自减运算符"
   ]
  },
  {
   "cell_type": "code",
   "execution_count": 4,
   "metadata": {},
   "outputs": [
    {
     "name": "stdout",
     "output_type": "stream",
     "text": [
      "7\n",
      "11\n",
      "16\n",
      "4.5\n",
      "4\n",
      "1\n",
      "-3\n"
     ]
    }
   ],
   "source": [
    "# 算术运算符\n",
    "# 加减乘除跟数学意义一致\n",
    "\n",
    "a = 9 - 2\n",
    "print(a)\n",
    "\n",
    "b = 9 + 2\n",
    "print(b)\n",
    "\n",
    "c = 8 * 2\n",
    "print(c)\n",
    "\n",
    "# python 除法分为普通除法，地板除  取余\n",
    "\n",
    "#正常除法\n",
    "a = 9 / 2\n",
    "print(a)\n",
    "\n",
    "# 地板除\n",
    "b = 9 // 2\n",
    "print(b)\n",
    "\n",
    "# 取余\n",
    "c = 9 % 2\n",
    "print(c)\n",
    "\n",
    "# 取余负数 \n",
    "# 对于任何同号的两个整数，其取余结果没有争议，所有语言的运算原则都是使商尽可能小。 \n",
    "# 对于异号的两个整数，C++/Java语言的原则是使商尽可能大，很多新型语言和网页计算器的原则是使商尽可能小\n",
    "d = 9 % -4\n",
    "print(d)"
   ]
  }
 ],
 "metadata": {
  "kernelspec": {
   "display_name": "Python 3",
   "language": "python",
   "name": "python3"
  },
  "language_info": {
   "codemirror_mode": {
    "name": "ipython",
    "version": 3
   },
   "file_extension": ".py",
   "mimetype": "text/x-python",
   "name": "python",
   "nbconvert_exporter": "python",
   "pygments_lexer": "ipython3",
   "version": "3.7.3"
  }
 },
 "nbformat": 4,
 "nbformat_minor": 2
}
